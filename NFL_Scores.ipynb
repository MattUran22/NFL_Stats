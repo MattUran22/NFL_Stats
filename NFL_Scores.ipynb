{
  "nbformat": 4,
  "nbformat_minor": 0,
  "metadata": {
    "colab": {
      "provenance": [],
      "authorship_tag": "ABX9TyPty0vrOv5fVr+RFv8gVzhN",
      "include_colab_link": true
    },
    "kernelspec": {
      "name": "python3",
      "display_name": "Python 3"
    },
    "language_info": {
      "name": "python"
    }
  },
  "cells": [
    {
      "cell_type": "markdown",
      "metadata": {
        "id": "view-in-github",
        "colab_type": "text"
      },
      "source": [
        "<a href=\"https://colab.research.google.com/github/MattUran22/NFL_Stats/blob/main/NFL_Scores.ipynb\" target=\"_parent\"><img src=\"https://colab.research.google.com/assets/colab-badge.svg\" alt=\"Open In Colab\"/></a>"
      ]
    },
    {
      "cell_type": "code",
      "execution_count": 6,
      "metadata": {
        "colab": {
          "base_uri": "https://localhost:8080/"
        },
        "id": "iGZ_9yZX0TZA",
        "outputId": "e2c54d82-e799-4c06-d36f-748d1a427b99"
      },
      "outputs": [
        {
          "output_type": "stream",
          "name": "stdout",
          "text": [
            "Data scraped and saved to 'nfl_last_5_years_results.csv'.\n"
          ]
        }
      ],
      "source": [
        "import requests\n",
        "from bs4 import BeautifulSoup\n",
        "import pandas as pd\n",
        "from datetime import datetime\n",
        "\n",
        "# Define the base URL for Pro Football Reference\n",
        "base_url = \"https://www.pro-football-reference.com/years/\"\n",
        "\n",
        "# Define the number of years to scrape (e.g., 5 years)\n",
        "num_years = 5\n",
        "\n",
        "# Initialize lists to store data\n",
        "all_dates = []\n",
        "all_teamsW = []\n",
        "all_teamsL = []\n",
        "all_scoresW = []\n",
        "all_scoresL = []\n",
        "all_yardsW = []\n",
        "all_yardsL = []\n",
        "all_turnoversW = []\n",
        "all_turnoversL = []\n",
        "\n",
        "# Loop through the last 'num_years' years\n",
        "for year in range(datetime.now().year - num_years + 1, datetime.now().year + 1):\n",
        "    # Define the URL for the NFL season page for the current year\n",
        "    url = f\"{base_url}{year}/games.htm\"\n",
        "\n",
        "    # Send an HTTP GET request to the URL\n",
        "    response = requests.get(url)\n",
        "\n",
        "    # Check if the request was successful\n",
        "    if response.status_code == 200:\n",
        "        # Parse the HTML content of the page\n",
        "        soup = BeautifulSoup(response.content, 'html.parser')\n",
        "\n",
        "        # Find the table with the specified id attribute\n",
        "        game_table = soup.find('div', {'id': 'div_games'})\n",
        "\n",
        "        if game_table:\n",
        "            # Initialize lists to store data for the current year\n",
        "            dates = []\n",
        "            teamsW = []\n",
        "            teamsL = []\n",
        "            scoresW = []\n",
        "            scoresL = []\n",
        "            yardsW = []\n",
        "            yardsL = []\n",
        "            turnoversW = []\n",
        "            turnoversL = []\n",
        "\n",
        "\n",
        "            # Loop through the rows of the table\n",
        "            for row in game_table.find_all('tr')[1:]:  # Skip the header row\n",
        "                columns = row.find_all('td')\n",
        "\n",
        "                # Check if there are enough columns in the row\n",
        "                if len(columns) >= 6:\n",
        "                    date = columns[1].text.strip()\n",
        "                    time = columns[2].text.strip()\n",
        "                    team1 = columns[3].text.strip()\n",
        "                    team2 = columns[5].text.strip()\n",
        "                    score1 = columns[7].text.strip()\n",
        "                    score2 = columns[8].text.strip()\n",
        "                    yards1 = columns[9].text.strip()\n",
        "                    yards2 = columns[11].text.strip()\n",
        "                    turnovers1 = columns[10].text.strip()\n",
        "                    turnovers2 = columns[12].text.strip()\n",
        "\n",
        "                    # Combine the date and time into a single datetime string\n",
        "                    datetime_str = f\"{date} {time}\"\n",
        "                    dates.append(datetime_str)\n",
        "                    teamsW.append(team1)\n",
        "                    teamsL.append(team2)\n",
        "                    scoresW.append(score1)\n",
        "                    scoresL.append(score2)\n",
        "                    yardsW.append (yards1)\n",
        "                    yardsL.append (yards2)\n",
        "                    turnoversW.append (turnovers1)\n",
        "                    turnoversL.append (turnovers2)\n",
        "\n",
        "            # Append data for the current year to the overall lists\n",
        "            all_dates.extend(dates)\n",
        "            all_teamsW.extend(teamsW)\n",
        "            all_teamsL.extend(teamsL)\n",
        "            all_scoresW.extend(scoresW)\n",
        "            all_scoresL.extend(scoresL)\n",
        "            all_yardsW.extend(yardsW)\n",
        "            all_yardsL.extend(yardsL)\n",
        "            all_turnoversW.extend(turnoversW)\n",
        "            all_turnoversL.extend(turnoversL)\n",
        "        else:\n",
        "            print(f\"Couldn't find the table with id 'div_games' for {year}.\")\n",
        "    else:\n",
        "        print(f\"Failed to retrieve the webpage for {year}. Status code:\", response.status_code)\n",
        "\n",
        "# Create a DataFrame from the collected data\n",
        "data = {'Date': all_dates, 'Winning Team': all_teamsW, 'Losing Team': all_teamsL, 'WScore': all_scoresW, 'LScore': all_scoresL, 'WYards': all_yardsW, 'LYards': all_yardsL, 'WTurnovers': all_turnoversW, 'LTurnovers': all_turnoversL}\n",
        "df = pd.DataFrame(data)\n",
        "\n",
        "# Export the data to a CSV file\n",
        "df.to_csv('nfl_last_5_years_results.csv', index=False)\n",
        "\n",
        "print(\"Data scraped and saved to 'nfl_last_5_years_results.csv'.\")"
      ]
    },
    {
      "cell_type": "code",
      "source": [],
      "metadata": {
        "id": "b8RMo77l7wAP"
      },
      "execution_count": 11,
      "outputs": []
    }
  ]
}