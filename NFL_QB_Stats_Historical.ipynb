{
  "nbformat": 4,
  "nbformat_minor": 0,
  "metadata": {
    "colab": {
      "provenance": [],
      "authorship_tag": "ABX9TyN4EecCrIbv6UTnIuI9m/2n",
      "include_colab_link": true
    },
    "kernelspec": {
      "name": "python3",
      "display_name": "Python 3"
    },
    "language_info": {
      "name": "python"
    }
  },
  "cells": [
    {
      "cell_type": "markdown",
      "metadata": {
        "id": "view-in-github",
        "colab_type": "text"
      },
      "source": [
        "<a href=\"https://colab.research.google.com/github/MattUran22/NFL_Stats/blob/main/NFL_QB_Stats_Historical.ipynb\" target=\"_parent\"><img src=\"https://colab.research.google.com/assets/colab-badge.svg\" alt=\"Open In Colab\"/></a>"
      ]
    },
    {
      "cell_type": "code",
      "execution_count": 3,
      "metadata": {
        "colab": {
          "base_uri": "https://localhost:8080/"
        },
        "id": "DUUWCi3Q10tP",
        "outputId": "86f75d04-f7fc-40dc-bdc4-00c060841cb6"
      },
      "outputs": [
        {
          "output_type": "stream",
          "name": "stdout",
          "text": [
            "Data scraped and saved to 'nfl_player_game_stats.csv'.\n"
          ]
        }
      ],
      "source": [
        "import requests\n",
        "from bs4 import BeautifulSoup\n",
        "import pandas as pd\n",
        "\n",
        "# Define the base URL for the initial page\n",
        "base_url = \"https://stathead.com/football/player-game-finder.cgi?request=1&draft_pick_type=overall&player_game_num_career_max=400&comp_type=reg&order_by=date&season_start=1&team_game_num_season_max=17&team_game_num_season_min=1&order_by_asc=1&weight_max=500&week_num_season_max=22&rookie=N&player_game_num_season_max=18&year_min=2011&qb_start_num_career_min=1&match=player_game&year_max=2023&player_game_num_season_min=1&season_end=-1&qb_start_num_career_max=400&week_num_season_min=1&player_game_num_career_min=1&cstat[1]=pass_att&ccomp[1]=gt&cval[1]=1&offset={}\"\n",
        "\n",
        "# Initialize a list to store all the data\n",
        "all_data = []\n",
        "\n",
        "page = 0\n",
        "\n",
        "while True:\n",
        "    # Define the URL for the current page\n",
        "    url = base_url.format(page)\n",
        "\n",
        "    # Send an HTTP GET request to the URL\n",
        "    response = requests.get(url)\n",
        "\n",
        "    # Check if the request was successful\n",
        "    if response.status_code == 200:\n",
        "        # Parse the HTML content of the page\n",
        "        soup = BeautifulSoup(response.content, 'html.parser')\n",
        "\n",
        "        # Find the table with the specified id attribute\n",
        "        game_table = soup.find('table', {'id': 'stats'})\n",
        "\n",
        "        if game_table:\n",
        "            # Loop through the rows of the table (excluding the header row)\n",
        "            for row in game_table.find_all('tr')[1:]:\n",
        "                columns = row.find_all(['th', 'td'])\n",
        "                row_data = [column.text.strip() for column in columns]\n",
        "                all_data.append(row_data)\n",
        "\n",
        "            # Check if there's a \"Next\" link to continue to the next page\n",
        "            next_button = soup.find('a', {'class':'button2 next'})\n",
        "            if next_button:\n",
        "                page += 200  # Adjust the offset for the next page\n",
        "            else:\n",
        "                break  # No more pages to scrape\n",
        "        else:\n",
        "            print(\"Couldn't find the table with id 'stats'.\")\n",
        "    else:\n",
        "        print(f\"Failed to retrieve the webpage. Status code: {response.status_code}\")\n",
        "\n",
        "# Assuming the first row contains headers\n",
        "headers = all_data[0]\n",
        "data = all_data[1:]\n",
        "\n",
        "# Create a DataFrame from the collected data with headers\n",
        "df = pd.DataFrame(data, columns=headers)\n",
        "\n",
        "# Export the data to a CSV file\n",
        "df.to_csv('nfl_player_game_stats.csv', index=False)\n",
        "\n",
        "print(\"Data scraped and saved to 'nfl_player_game_stats.csv'.\")"
      ]
    }
  ]
}