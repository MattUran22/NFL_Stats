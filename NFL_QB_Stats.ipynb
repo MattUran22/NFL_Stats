{
  "nbformat": 4,
  "nbformat_minor": 0,
  "metadata": {
    "colab": {
      "provenance": [],
      "authorship_tag": "ABX9TyM4aF/tS0J1o5eAxzFORbaf",
      "include_colab_link": true
    },
    "kernelspec": {
      "name": "python3",
      "display_name": "Python 3"
    },
    "language_info": {
      "name": "python"
    }
  },
  "cells": [
    {
      "cell_type": "markdown",
      "metadata": {
        "id": "view-in-github",
        "colab_type": "text"
      },
      "source": [
        "<a href=\"https://colab.research.google.com/github/MattUran22/NFL_Stats/blob/main/NFL_QB_Stats.ipynb\" target=\"_parent\"><img src=\"https://colab.research.google.com/assets/colab-badge.svg\" alt=\"Open In Colab\"/></a>"
      ]
    },
    {
      "cell_type": "code",
      "execution_count": 7,
      "metadata": {
        "colab": {
          "base_uri": "https://localhost:8080/"
        },
        "id": "KSbcQ9llV3Qj",
        "outputId": "fc114839-9fec-4df3-d0ba-c02c39789ce1"
      },
      "outputs": [
        {
          "output_type": "stream",
          "name": "stdout",
          "text": [
            "Data scraped and saved to 'nfl_player_game_stats.csv'.\n"
          ]
        }
      ],
      "source": [
        "import requests\n",
        "from bs4 import BeautifulSoup\n",
        "import pandas as pd\n",
        "\n",
        "# Define the base URL for the initial page\n",
        "base_url = \"https://stathead.com/football/player-game-finder.cgi?request=1&draft_pick_type=overall&player_game_num_career_max=400&comp_type=reg&order_by=date&season_start=1&team_game_num_season_max=17&team_game_num_season_min=1&order_by_asc=1&weight_max=500&week_num_season_max=22&rookie=N&player_game_num_season_max=18&year_min=2011&qb_start_num_career_min=1&match=player_game&year_max=2023&player_game_num_season_min=1&season_end=-1&qb_start_num_career_max=400&week_num_season_min=1&player_game_num_career_min=1&cstat[1]=pass_att&ccomp[1]=gt&cval[1]=1&offset={}\"\n",
        "\n",
        "# Initialize lists to store data\n",
        "all_dates = []\n",
        "all_teamsW = []\n",
        "all_teamsL = []\n",
        "all_scoresW = []\n",
        "all_scoresL = []\n",
        "all_yardsW = []\n",
        "all_yardsL = []\n",
        "all_turnoversW = []\n",
        "all_turnoversL = []\n",
        "\n",
        "page = 0\n",
        "\n",
        "while True:\n",
        "    # Define the URL for the current page\n",
        "    url = base_url.format(page)\n",
        "\n",
        "    # Send an HTTP GET request to the URL\n",
        "    response = requests.get(url)\n",
        "\n",
        "    # Check if the request was successful\n",
        "    if response.status_code == 200:\n",
        "        # Parse the HTML content of the page\n",
        "        soup = BeautifulSoup(response.content, 'html.parser')\n",
        "\n",
        "        # Find the table with the specified id attribute\n",
        "        game_table = soup.find('table', {'id': 'stats'})\n",
        "\n",
        "        if game_table:\n",
        "            # Initialize lists to store data for the current page\n",
        "            dates = []\n",
        "            teamsW = []\n",
        "            teamsL = []\n",
        "            scoresW = []\n",
        "            scoresL = []\n",
        "            yardsW = []\n",
        "            yardsL = []\n",
        "            turnoversW = []\n",
        "            turnoversL = []\n",
        "\n",
        "            # Loop through the rows of the table\n",
        "            for row in game_table.find_all('tr')[1:]:  # Skip the header row\n",
        "                columns = row.find_all('td')\n",
        "\n",
        "                # Check if there are enough columns in the row\n",
        "                if len(columns) >= 6:\n",
        "                    date = columns[1].text.strip()\n",
        "                    time = columns[2].text.strip()\n",
        "                    team1 = columns[3].text.strip()\n",
        "                    team2 = columns[5].text.strip()\n",
        "                    score1 = columns[7].text.strip()\n",
        "                    score2 = columns[8].text.strip()\n",
        "                    yards1 = columns[9].text.strip()\n",
        "                    yards2 = columns[11].text.strip()\n",
        "                    turnovers1 = columns[10].text.strip()\n",
        "                    turnovers2 = columns[12].text.strip()\n",
        "\n",
        "                    # Combine the date and time into a single datetime string\n",
        "                    datetime_str = f\"{date} {time}\"\n",
        "                    dates.append(datetime_str)\n",
        "                    teamsW.append(team1)\n",
        "                    teamsL.append(team2)\n",
        "                    scoresW.append(score1)\n",
        "                    scoresL.append(score2)\n",
        "                    yardsW.append(yards1)\n",
        "                    yardsL.append(yards2)\n",
        "                    turnoversW.append(turnovers1)\n",
        "                    turnoversL.append(turnovers2)\n",
        "\n",
        "            # Append data for the current page to the overall lists\n",
        "            all_dates.extend(dates)\n",
        "            all_teamsW.extend(teamsW)\n",
        "            all_teamsL.extend(teamsL)\n",
        "            all_scoresW.extend(scoresW)\n",
        "            all_scoresL.extend(scoresL)\n",
        "            all_yardsW.extend(yardsW)\n",
        "            all_yardsL.extend(yardsL)\n",
        "            all_turnoversW.extend(turnoversW)\n",
        "            all_turnoversL.extend(turnoversL)\n",
        "\n",
        "            # Check if there's a \"Next\" link to continue to the next page\n",
        "            next_link = soup.find('a', {'class': 'button2 next'})\n",
        "            if next_link:\n",
        "                page += 200  # Adjust the offset for the next page\n",
        "            else:\n",
        "                break  # No more pages to scrape\n",
        "        else:\n",
        "            print(\"Couldn't find the table with id 'stats'.\")\n",
        "    else:\n",
        "        print(f\"Failed to retrieve the webpage. Status code: {response.status_code}\")\n",
        "\n",
        "# Create a DataFrame from the collected data\n",
        "data = {\n",
        "    'Date': all_dates, 'Winning Team': all_teamsW, 'Losing Team': all_teamsL,\n",
        "    'WScore': all_scoresW, 'LScore': all_scoresL, 'WYards': all_yardsW,\n",
        "    'LYards': all_yardsL, 'WTurnovers': all_turnoversW, 'LTurnovers': all_turnoversL\n",
        "}\n",
        "df = pd.DataFrame(data)\n",
        "\n",
        "# Export the data to a CSV file\n",
        "df.to_csv('nfl_player_game_stats.csv', index=False)\n",
        "\n",
        "print(\"Data scraped and saved to 'nfl_player_game_stats.csv'.\")"
      ]
    }
  ]
}